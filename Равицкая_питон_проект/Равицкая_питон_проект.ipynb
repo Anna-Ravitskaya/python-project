{
  "cells": [
    {
      "cell_type": "markdown",
      "source": [
        "Ссылка на бота: https://t.me/shalom_pizza_bot"
      ],
      "metadata": {
        "id": "uNQLyK2NL6bL"
      },
      "id": "uNQLyK2NL6bL"
    },
    {
      "cell_type": "markdown",
      "id": "abf9d3e5-41f2-456a-8e88-7c26323d9330",
      "metadata": {
        "id": "abf9d3e5-41f2-456a-8e88-7c26323d9330"
      },
      "source": [
        "# Imports"
      ]
    },
    {
      "cell_type": "code",
      "execution_count": 1,
      "id": "5c74de75-364f-4d51-9819-ae98b65882dd",
      "metadata": {
        "scrolled": true,
        "colab": {
          "base_uri": "https://localhost:8080/"
        },
        "id": "5c74de75-364f-4d51-9819-ae98b65882dd",
        "outputId": "c2caa937-f13b-4ae5-89e7-cff52494c130"
      },
      "outputs": [
        {
          "output_type": "stream",
          "name": "stdout",
          "text": [
            "Requirement already satisfied: pytelegrambotapi in /usr/local/lib/python3.10/dist-packages (4.19.2)\n",
            "Requirement already satisfied: requests in /usr/local/lib/python3.10/dist-packages (from pytelegrambotapi) (2.31.0)\n",
            "Requirement already satisfied: charset-normalizer<4,>=2 in /usr/local/lib/python3.10/dist-packages (from requests->pytelegrambotapi) (3.3.2)\n",
            "Requirement already satisfied: idna<4,>=2.5 in /usr/local/lib/python3.10/dist-packages (from requests->pytelegrambotapi) (3.7)\n",
            "Requirement already satisfied: urllib3<3,>=1.21.1 in /usr/local/lib/python3.10/dist-packages (from requests->pytelegrambotapi) (2.0.7)\n",
            "Requirement already satisfied: certifi>=2017.4.17 in /usr/local/lib/python3.10/dist-packages (from requests->pytelegrambotapi) (2024.6.2)\n"
          ]
        }
      ],
      "source": [
        "!pip install pytelegrambotapi"
      ]
    },
    {
      "cell_type": "code",
      "execution_count": 2,
      "id": "07eb1129-5036-4139-b9a3-9676c0b4c624",
      "metadata": {
        "id": "07eb1129-5036-4139-b9a3-9676c0b4c624"
      },
      "outputs": [],
      "source": [
        "import telebot\n",
        "from telebot import types\n",
        "\n",
        "import csv\n",
        "import random\n",
        "\n",
        "import pandas as pd"
      ]
    },
    {
      "cell_type": "markdown",
      "id": "a3c55ad7-4e84-424b-aff2-374c0fe74c14",
      "metadata": {
        "id": "a3c55ad7-4e84-424b-aff2-374c0fe74c14"
      },
      "source": [
        "Создаем бота в телеграме с помощью @botFather, получаем токен"
      ]
    },
    {
      "cell_type": "code",
      "execution_count": 3,
      "id": "60128568-fb41-44a2-a7dd-bf884a637a3b",
      "metadata": {
        "id": "60128568-fb41-44a2-a7dd-bf884a637a3b"
      },
      "outputs": [],
      "source": [
        "bot_token = \"7263496012:AAHX7VtbkAj1-5-I6olyOKKHNCUBG_HW7uk\"\n",
        "bot = telebot.TeleBot(bot_token)"
      ]
    },
    {
      "cell_type": "code",
      "execution_count": 4,
      "id": "9ea98a54-dd78-4719-ac96-bb8edd34fa0a",
      "metadata": {
        "id": "9ea98a54-dd78-4719-ac96-bb8edd34fa0a"
      },
      "outputs": [],
      "source": [
        "# создаем три файла для сохранения необходимых нам данных\n",
        "\n",
        "# файл для хранения заказов на вынос\n",
        "with open('order_togo.csv', 'w', newline='') as csvfile:\n",
        "          fieldnames = ['order', 'toppings']\n",
        "          writer = csv.writer(csvfile)\n",
        "          writer.writerow(fieldnames)\n",
        "\n",
        "# файл для хранения заказов в зале\n",
        "with open('order_inhall.csv', 'w', newline='') as csvfile:\n",
        "          fieldnames = ['order', 'toppings']\n",
        "          writer = csv.writer(csvfile)\n",
        "          writer.writerow(fieldnames)\n",
        "\n",
        "# файл для хранения отзывов\n",
        "with open('reviews.csv', 'w', newline='') as csvfile:\n",
        "          fieldnames = ['rating', 'review']\n",
        "          writer = csv.writer(csvfile)\n",
        "          writer.writerow(fieldnames)"
      ]
    },
    {
      "cell_type": "code",
      "execution_count": 5,
      "id": "14fa81e7-8b4d-4204-91eb-ec73b9c45150",
      "metadata": {
        "id": "14fa81e7-8b4d-4204-91eb-ec73b9c45150"
      },
      "outputs": [],
      "source": [
        "# создаем некоторые необходимые текстовые сообщения-ответы бота\n",
        "\n",
        "text1 = 'Чтобы получить список команд, нажмите \"Помощь\"'\n",
        "text2 = 'Чтобы узнать загруженность зала, нажмите \"Загруженность\"'\n",
        "text3 = 'Чтобы сделать заказ на вынос, нажмите \"На вынос\"'\n",
        "text4 = 'Чтобы сделать заказ в зал, нажмите \"В зале\"'\n",
        "text5 = 'Чтобы оставить отзыв, нажмите \"Отзыв\"'\n",
        "text6 = 'Чтобы зайти в админ-панель, нажмите \"Админ-панель\"'"
      ]
    },
    {
      "cell_type": "code",
      "execution_count": 6,
      "id": "2fbef5b0-d861-4d61-8050-c55bf087f3fc",
      "metadata": {
        "id": "2fbef5b0-d861-4d61-8050-c55bf087f3fc"
      },
      "outputs": [],
      "source": [
        "# читаем необходимые файлы: меню пиццы, меню топпингов для пиццы, меню напитков\n",
        "# файлы имеют такие колонки:\n",
        "# name (название); ingr (ингридиенты); price (цена)\n",
        "\n",
        "menu_pizza = pd.read_csv('menu_pizza.csv')\n",
        "menu_toppings = pd.read_csv('menu_toppings.csv')\n",
        "menu_drinks = pd.read_csv('menu_drinks.csv')"
      ]
    },
    {
      "cell_type": "code",
      "execution_count": 7,
      "id": "01d8c099-d167-4685-8b32-fb3d9e025198",
      "metadata": {
        "id": "01d8c099-d167-4685-8b32-fb3d9e025198"
      },
      "outputs": [],
      "source": [
        "# Обработчик команды /start\n",
        "\n",
        "@bot.message_handler(commands=[\"start\"])\n",
        "def start(message):\n",
        "\n",
        "    # Создаем панель с кнопками с возможностью изменения размера\n",
        "    markup = types.ReplyKeyboardMarkup(resize_keyboard=True)\n",
        "\n",
        "    # Создаем кнопки для панели\n",
        "    item1 = types.KeyboardButton(\"Помощь\")\n",
        "    item2 = types.KeyboardButton(\"Загруженность\")\n",
        "    item3 = types.KeyboardButton(\"На вынос\")\n",
        "    item4 = types.KeyboardButton(\"В зале\")\n",
        "    item5 = types.KeyboardButton(\"Отзыв\")\n",
        "    item6 = types.KeyboardButton(\"Админ-панель\")\n",
        "\n",
        "    # Располагаем кнопки по рядам\n",
        "    markup.row(item1)\n",
        "    markup.row(item3, item4, item5)\n",
        "    markup.row(item2)\n",
        "    markup.row(item6)\n",
        "\n",
        "    # Отправляем сообщение пользователю с прикрепленной панелью\n",
        "    bot.send_message(message.chat.id, 'Добрый день! Это бот пиццерии Shalom Pizza! :) \\n Чем можем помочь?', reply_markup=markup)"
      ]
    },
    {
      "cell_type": "code",
      "execution_count": 8,
      "id": "fb887a1c-90fd-4fa8-9e9d-79d53e060dfa",
      "metadata": {
        "id": "fb887a1c-90fd-4fa8-9e9d-79d53e060dfa"
      },
      "outputs": [],
      "source": [
        "# Обработчик сообщений с текстовым содержимым\n",
        "@bot.message_handler(content_types=[\"text\"])\n",
        "def handle_text(message):\n",
        "\n",
        "    # Обработка сообщения \"Помощь\"\n",
        "    if message.text.strip() == 'Помощь':\n",
        "        # Отправляем сообщения с информацией о возможностях бота\n",
        "        bot.send_message(message.chat.id, 'Вот список возможностей бота:')\n",
        "        bot.send_message(message.chat.id, text2)\n",
        "        bot.send_message(message.chat.id, text3)\n",
        "        bot.send_message(message.chat.id, text4)\n",
        "        bot.send_message(message.chat.id, text5)\n",
        "        bot.send_message(message.chat.id, text6)\n",
        "\n",
        "    # Обработка сообщения \"Загруженность\"\n",
        "    elif message.text.strip() == 'Загруженность':\n",
        "        # Отправляем информацию о текущей загруженности пиццерии\n",
        "        answer1 = 'Сейчас загруженность пиццерии такая:'\n",
        "        answer2 = random.choice(['Пусто!', 'Немного людей', 'Аншлаг!'])\n",
        "        bot.send_message(message.chat.id, answer1)\n",
        "        bot.send_message(message.chat.id, answer2)\n",
        "\n",
        "    # Обработка сообщения \"На вынос\"\n",
        "    elif message.text.strip() == 'На вынос':\n",
        "        # Отправляем меню пиццы, напитков и топпингов\n",
        "        answer1 = 'Отлично! Давайте создадим заказ на вынос. Вот наше меню пиццы:\\n'\n",
        "        for index, row in menu_pizza.iterrows():\n",
        "            answer1 += f\"{row['Name']}, (ингредиенты: {row['Ingr']}), {row['price']}р\\n\"\n",
        "        bot.send_message(message.chat.id, answer1)\n",
        "\n",
        "        answer2 = 'Вот наше меню напитков:\\n'\n",
        "        for index, row in menu_drinks.iterrows():\n",
        "            answer2 += f\"{row['Name']}, {row['price']}р\\n\"\n",
        "        bot.send_message(message.chat.id, answer2)\n",
        "\n",
        "        answer3 = 'Вот наше меню топпингов:\\n'\n",
        "        for index, row in menu_toppings.iterrows():\n",
        "            answer3 += f\"{row['Name']}, {row['price']}р\\n\"\n",
        "        bot.send_message(message.chat.id, answer3)\n",
        "\n",
        "        # Инструкция для пользователя по оформлению заказа\n",
        "        answer4 = 'Запишите ваш заказ в ответ боту в формате: название_кол-во; топпинги'\n",
        "        bot.send_message(message.chat.id, answer4)\n",
        "\n",
        "        # Функция для записи заказа\n",
        "        def order_writing(message):\n",
        "            with open('order_togo.csv', 'a', newline='') as csvfile:\n",
        "                writer = csv.writer(csvfile)\n",
        "                writer.writerow([message.text.split(';')[0], message.text.split(';')[1]])\n",
        "            answer6 = 'Спасибо! Мы получили ваш заказ и уже готовим его!'\n",
        "            bot.send_message(message.chat.id, answer6)\n",
        "\n",
        "        # Регистрация следующего шага для получения заказа\n",
        "        bot.register_next_step_handler(message, order_writing)\n",
        "\n",
        "    # Обработка сообщения \"В зале\"\n",
        "    elif message.text.strip() == 'В зале':\n",
        "        # Отправляем меню пиццы, напитков и топпингов\n",
        "        answer1 = 'Отлично! Давайте создадим заказ в зал. Вот наше меню пиццы:\\n'\n",
        "        for index, row in menu_pizza.iterrows():\n",
        "            answer1 += f\"{row['Name']}, (ингредиенты: {row['Ingr']}), {row['price']}р\\n\"\n",
        "        bot.send_message(message.chat.id, answer1)\n",
        "\n",
        "        answer2 = 'Вот наше меню напитков:\\n'\n",
        "        for index, row in menu_drinks.iterrows():\n",
        "            answer2 += f\"{row['Name']}, {row['price']}р\\n\"\n",
        "        bot.send_message(message.chat.id, answer2)\n",
        "\n",
        "        answer3 = 'Вот наше меню топпингов:\\n'\n",
        "        for index, row in menu_toppings.iterrows():\n",
        "            answer3 += f\"{row['Name']}, {row['price']}р\\n\"\n",
        "        bot.send_message(message.chat.id, answer3)\n",
        "\n",
        "        # Инструкция для пользователя по оформлению заказа\n",
        "        answer4 = 'Запишите ваш заказ в ответ боту в формате: название_кол-во; топпинги'\n",
        "        bot.send_message(message.chat.id, answer4)\n",
        "\n",
        "        # Функция для записи заказа\n",
        "        def order_writing(message):\n",
        "            with open('order_inhall.csv', 'a', newline='') as csvfile:\n",
        "                writer = csv.writer(csvfile)\n",
        "                writer.writerow([message.text.split(';')[0], message.text.split(';')[1]])\n",
        "            answer6 = 'Спасибо! Мы получили ваш заказ и уже готовим его!'\n",
        "            bot.send_message(message.chat.id, answer6)\n",
        "\n",
        "        # Регистрация следующего шага для получения заказа\n",
        "        bot.register_next_step_handler(message, order_writing)\n",
        "\n",
        "    # Обработка сообщения \"Отзыв\"\n",
        "    elif message.text.strip() == 'Отзыв':\n",
        "        # Инструкция для пользователя по оставлению отзыва\n",
        "        answer1 = 'Оставьте ваш отзыв в формате: оценка(от 1 до 5); текст_отзыва'\n",
        "        bot.send_message(message.chat.id, answer1)\n",
        "\n",
        "        # Функция для записи отзыва\n",
        "        def review_writing(message):\n",
        "            with open('reviews.csv', 'a', newline='') as csvfile:\n",
        "                writer = csv.writer(csvfile)\n",
        "                writer.writerow([message.text.split(';')[0], message.text.split(';')[1]])\n",
        "            answer2 = 'Спасибо!'\n",
        "            bot.send_message(message.chat.id, answer2)\n",
        "\n",
        "        # Регистрация следующего шага для получения отзыва\n",
        "        bot.register_next_step_handler(message, review_writing)\n",
        "\n",
        "    # Обработка сообщения \"Админ-панель\"\n",
        "    elif message.text.strip() == 'Админ-панель':\n",
        "        # Инструкция для доступа к админ-панели\n",
        "        answer1 = 'Для доступа к админ-панели введите пароль'\n",
        "        bot.send_message(message.chat.id, answer1)\n",
        "\n",
        "        # Функция для обработки ввода пароля и предоставления доступа к админ-панели\n",
        "        def admin_panel(message):\n",
        "            if message.text == '1234':\n",
        "                with open('order_inhall.csv', 'r', newline='') as csvfile:\n",
        "                    reader = csv.reader(csvfile)\n",
        "                    next(reader)  # Пропускаем заголовок\n",
        "                    order_inhall_count = sum(1 for row in reader)\n",
        "                with open('order_togo.csv', 'r', newline='') as csvfile:\n",
        "                    reader = csv.reader(csvfile)\n",
        "                    next(reader)  # Пропускаем заголовок\n",
        "                    order_togo_count = sum(1 for row in reader)\n",
        "                answer2 = f\"Кол-во заказов в зал: {order_inhall_count},\\nКол-во заказов на вынос: {order_togo_count}\"\n",
        "                bot.send_message(message.chat.id, answer2)\n",
        "\n",
        "        # Регистрация следующего шага для проверки пароля\n",
        "        bot.register_next_step_handler(message, admin_panel)\n",
        "\n",
        "    # Обработка неизвестного сообщения\n",
        "    else:\n",
        "        bot.send_message(message.chat.id, 'Бот не знает, что нужно ответить. Нажмите \"Помощь\"')"
      ]
    },
    {
      "cell_type": "code",
      "execution_count": 9,
      "id": "95d6dd80-f3b3-4118-932c-97f92d1e6a70",
      "metadata": {
        "id": "95d6dd80-f3b3-4118-932c-97f92d1e6a70"
      },
      "outputs": [],
      "source": [
        "# Запускаем бот\n",
        "bot.polling(none_stop=True, interval=0)"
      ]
    }
  ],
  "metadata": {
    "kernelspec": {
      "display_name": "Python 3 (ipykernel)",
      "language": "python",
      "name": "python3"
    },
    "language_info": {
      "codemirror_mode": {
        "name": "ipython",
        "version": 3
      },
      "file_extension": ".py",
      "mimetype": "text/x-python",
      "name": "python",
      "nbconvert_exporter": "python",
      "pygments_lexer": "ipython3",
      "version": "3.12.3"
    },
    "colab": {
      "provenance": []
    }
  },
  "nbformat": 4,
  "nbformat_minor": 5
}